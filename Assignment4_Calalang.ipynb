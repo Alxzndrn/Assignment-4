{
  "nbformat": 4,
  "nbformat_minor": 0,
  "metadata": {
    "colab": {
      "name": "Assignment4_Calalang.ipynb",
      "provenance": [],
      "authorship_tag": "ABX9TyPnURQiodm2yQzKD3jA6FAN",
      "include_colab_link": true
    },
    "kernelspec": {
      "name": "python3",
      "display_name": "Python 3"
    },
    "language_info": {
      "name": "python"
    }
  },
  "cells": [
    {
      "cell_type": "markdown",
      "metadata": {
        "id": "view-in-github",
        "colab_type": "text"
      },
      "source": [
        "<a href=\"https://colab.research.google.com/github/Alxzndrn/Assignment-4/blob/main/Assignment4_Calalang.ipynb\" target=\"_parent\"><img src=\"https://colab.research.google.com/assets/colab-badge.svg\" alt=\"Open In Colab\"/></a>"
      ]
    },
    {
      "cell_type": "markdown",
      "metadata": {
        "id": "_kBskZfpfd6S"
      },
      "source": [
        "# Lab Assignment 4"
      ]
    },
    {
      "cell_type": "markdown",
      "metadata": {
        "id": "0H-cSVygfmqT"
      },
      "source": [
        "## What is Matrices?\n",
        "### A matrix is a rectangular arrays of numbers, symbols, or expressions, arranged in rows and columns."
      ]
    },
    {
      "cell_type": "markdown",
      "metadata": {
        "id": "KdfUNIlcgDqo"
      },
      "source": [
        "#### Objectives\n",
        "At the end of this activity you will be able to:\n",
        "1. Be familiar with matrices and their relation to linear equations.\n",
        "2. Perform basic matrix operations.\n",
        "3. Program and translate matrix equations and operations using Python."
      ]
    },
    {
      "cell_type": "code",
      "metadata": {
        "id": "wgeiatUSgQnV"
      },
      "source": [
        "import numpy as np\n",
        "import matplotlib.pyplot as plt\n",
        "import scipy.linalg as la\n",
        "%matplotlib inline"
      ],
      "execution_count": null,
      "outputs": []
    },
    {
      "cell_type": "markdown",
      "metadata": {
        "id": "GhlRtNBnghAl"
      },
      "source": [
        "## Activity"
      ]
    },
    {
      "cell_type": "markdown",
      "metadata": {
        "id": "qOQxDiiUgoIz"
      },
      "source": [
        "### Task 1\n",
        "Create a function named `desc_mat()` that througouhly describes a matrix, it should: <br>\n",
        "1. Displays the shape, size, and rank of the matrix. <br>\n",
        "2. Displays whether the matrix is square or non-square. <br>\n",
        "\n",
        "> Indented block\n",
        "\n",
        "\n",
        "3. Displays whether the matrix is an empty matrix. <br>\n",
        "4. Displays if the matrix is an identity, ones, or zeros matrix <br>\n",
        "   \n",
        "Use 5 sample matrices in which their shapes are not lower than $(3,3)$.\n",
        "In your methodology, create a flowchart discuss the functions and methods you have done. Present your results in the results section showing the description of each matrix you have declared."
      ]
    },
    {
      "cell_type": "markdown",
      "metadata": {
        "id": "uhYlIcrqg3NO"
      },
      "source": [
        "### Function Area"
      ]
    },
    {
      "cell_type": "code",
      "metadata": {
        "id": "cYW3sNqfhWH4"
      },
      "source": [
        "def desc_mat(matrix):\n",
        "    print(f'Matrix:\\n{matrix}\\n\\nShape:\\t{matrix.shape}\\nRank:\\t{matrix.ndim}\\n')"
      ],
      "execution_count": null,
      "outputs": []
    },
    {
      "cell_type": "markdown",
      "metadata": {
        "id": "VURh6IXuhB9e"
      },
      "source": [
        "### Matrix declaration"
      ]
    },
    {
      "cell_type": "code",
      "metadata": {
        "id": "LuX5LSEBhaW5"
      },
      "source": [
        "## Null Matrix\n",
        "null_mat = np.array([])"
      ],
      "execution_count": null,
      "outputs": []
    },
    {
      "cell_type": "code",
      "metadata": {
        "id": "TQmbNT8lhbky"
      },
      "source": [
        "## Zero Matrix\n",
        "zero_mat_sqr = np.zeros((3,3))"
      ],
      "execution_count": null,
      "outputs": []
    },
    {
      "cell_type": "code",
      "metadata": {
        "id": "o6R2cop_heCH"
      },
      "source": [
        "## Ones Matrix\n",
        "ones_mat_sqr = np.ones((3,3))"
      ],
      "execution_count": null,
      "outputs": []
    },
    {
      "cell_type": "code",
      "metadata": {
        "id": "g14oWXvLhgPy"
      },
      "source": [
        "## Diagonal Matrix\n",
        "A = np.array([\n",
        "    [3, 0, 0],\n",
        "    [0, 3, 0],\n",
        "    [0, 0, 9]\n",
        "])"
      ],
      "execution_count": null,
      "outputs": []
    },
    {
      "cell_type": "code",
      "metadata": {
        "id": "I_cv6IpLiLHF"
      },
      "source": [
        "## Identity Matrix\n",
        "# np.identity(3)\n"
      ],
      "execution_count": null,
      "outputs": []
    },
    {
      "cell_type": "code",
      "metadata": {
        "id": "J3y2XJ_5kiIf"
      },
      "source": [
        "## Upper Triangular Matrix\n",
        "B = np.array([\n",
        "    [1, 8, 1],\n",
        "    [0, 4, 7],\n",
        "    [0, 0, 9]\n",
        "])"
      ],
      "execution_count": null,
      "outputs": []
    },
    {
      "cell_type": "code",
      "metadata": {
        "id": "0z9tpamqkkR4"
      },
      "source": [
        "#Lower Triangular Matrix\n",
        "C = np.array([\n",
        "    [2, 0, 0],\n",
        "    [6, 4, 0],\n",
        "    [7, 7, 1]\n",
        "])"
      ],
      "execution_count": null,
      "outputs": []
    },
    {
      "cell_type": "markdown",
      "metadata": {
        "id": "S4yCPt9phISJ"
      },
      "source": [
        "### Test Areas"
      ]
    },
    {
      "cell_type": "code",
      "metadata": {
        "colab": {
          "base_uri": "https://localhost:8080/"
        },
        "id": "gwfM_99whVQh",
        "outputId": "fbadf823-28ef-425e-83b1-ce0c6cc66551"
      },
      "source": [
        "## Null Matrix\n",
        "desc_mat(null_mat)"
      ],
      "execution_count": null,
      "outputs": [
        {
          "output_type": "stream",
          "name": "stdout",
          "text": [
            "Matrix:\n",
            "[]\n",
            "\n",
            "Shape:\t(0,)\n",
            "Rank:\t1\n",
            "\n"
          ]
        }
      ]
    },
    {
      "cell_type": "code",
      "metadata": {
        "colab": {
          "base_uri": "https://localhost:8080/"
        },
        "id": "2YQdq5Kqmo8i",
        "outputId": "13b690ea-ccae-492f-a942-29f0d6d993e1"
      },
      "source": [
        "## Zero Matrix\n",
        "desc_mat(zero_mat_sqr)"
      ],
      "execution_count": null,
      "outputs": [
        {
          "output_type": "stream",
          "name": "stdout",
          "text": [
            "Matrix:\n",
            "[[0. 0. 0.]\n",
            " [0. 0. 0.]\n",
            " [0. 0. 0.]]\n",
            "\n",
            "Shape:\t(3, 3)\n",
            "Rank:\t2\n",
            "\n"
          ]
        }
      ]
    },
    {
      "cell_type": "code",
      "metadata": {
        "colab": {
          "base_uri": "https://localhost:8080/"
        },
        "id": "_PNDpSizm_4d",
        "outputId": "561ebd1e-986c-412b-974e-259119cd9af5"
      },
      "source": [
        "## Ones Matrix\n",
        "desc_mat(ones_mat_sqr)"
      ],
      "execution_count": null,
      "outputs": [
        {
          "output_type": "stream",
          "name": "stdout",
          "text": [
            "Matrix:\n",
            "[[1. 1. 1.]\n",
            " [1. 1. 1.]\n",
            " [1. 1. 1.]]\n",
            "\n",
            "Shape:\t(3, 3)\n",
            "Rank:\t2\n",
            "\n"
          ]
        }
      ]
    },
    {
      "cell_type": "code",
      "metadata": {
        "colab": {
          "base_uri": "https://localhost:8080/"
        },
        "id": "TFkfd9RwnESQ",
        "outputId": "a875a51c-e68d-45d1-d27f-d0a75fb6fc06"
      },
      "source": [
        "## Diagonal Matrix\n",
        "desc_mat(A)"
      ],
      "execution_count": null,
      "outputs": [
        {
          "output_type": "stream",
          "name": "stdout",
          "text": [
            "Matrix:\n",
            "[[3 0 0]\n",
            " [0 3 0]\n",
            " [0 0 9]]\n",
            "\n",
            "Shape:\t(3, 3)\n",
            "Rank:\t2\n",
            "\n"
          ]
        }
      ]
    },
    {
      "cell_type": "code",
      "metadata": {
        "colab": {
          "base_uri": "https://localhost:8080/"
        },
        "id": "LyNVk9-KnFsa",
        "outputId": "839a9a6f-bb25-4043-bff0-19bdbf719cac"
      },
      "source": [
        "## Identity Matrix\n",
        "np.identity(3)"
      ],
      "execution_count": null,
      "outputs": [
        {
          "output_type": "execute_result",
          "data": {
            "text/plain": [
              "array([[1., 0., 0.],\n",
              "       [0., 1., 0.],\n",
              "       [0., 0., 1.]])"
            ]
          },
          "metadata": {},
          "execution_count": 24
        }
      ]
    },
    {
      "cell_type": "code",
      "metadata": {
        "colab": {
          "base_uri": "https://localhost:8080/"
        },
        "id": "CvTwCMfnnINZ",
        "outputId": "02591ee0-80eb-4780-acb5-df5e6b1828e1"
      },
      "source": [
        "## Upper Triangular Matrix\n",
        "desc_mat(B)"
      ],
      "execution_count": null,
      "outputs": [
        {
          "output_type": "stream",
          "name": "stdout",
          "text": [
            "Matrix:\n",
            "[[1 8 1]\n",
            " [0 4 7]\n",
            " [0 0 9]]\n",
            "\n",
            "Shape:\t(3, 3)\n",
            "Rank:\t2\n",
            "\n"
          ]
        }
      ]
    },
    {
      "cell_type": "code",
      "metadata": {
        "colab": {
          "base_uri": "https://localhost:8080/"
        },
        "id": "6VWtbz9TnLmL",
        "outputId": "8677c126-b858-4f63-a45e-e2cd337aed09"
      },
      "source": [
        "#Lower Triangular Matrix\n",
        "desc_mat(C)"
      ],
      "execution_count": null,
      "outputs": [
        {
          "output_type": "stream",
          "name": "stdout",
          "text": [
            "Matrix:\n",
            "[[2 0 0]\n",
            " [6 4 0]\n",
            " [7 7 1]]\n",
            "\n",
            "Shape:\t(3, 3)\n",
            "Rank:\t2\n",
            "\n"
          ]
        }
      ]
    },
    {
      "cell_type": "markdown",
      "metadata": {
        "id": "RJsT7UPfnNxv"
      },
      "source": [
        "### Task 2\n",
        "Create a function named `mat_operations()` that takes in two matrices a input parameters it should:<br>\n",
        " 1. Determines if the matrices are viable for operation and returns your own error message if they are not viable.\n",
        " 2. Returns the sum of the matrices.\n",
        " 3. Returns the differen of the matrices.\n",
        " 4. Returns the element-wise multiplication of the matrices.\n",
        " 5. Returns the element-wise division of the matrices.\n",
        "\n",
        "Use 5 sample matrices in which their shapes are not lower than $(3,3)$.\n",
        "In your methodology, create a flowchart discuss the functions and methods you have done. Present your results in the results section showing the description of each matrix you have declared."
      ]
    },
    {
      "cell_type": "markdown",
      "metadata": {
        "id": "kQdkeoBLnWGi"
      },
      "source": [
        "## Function area"
      ]
    },
    {
      "cell_type": "code",
      "metadata": {
        "id": "gGZ8fTaFnajK"
      },
      "source": [
        "def mat_operations(matrix):\n",
        "    print(f'Matrix:\\n{matrix}\\n\\nShape:\\t{matrix.shape}\\nRank:\\t{matrix.ndim}\\n')"
      ],
      "execution_count": null,
      "outputs": []
    },
    {
      "cell_type": "markdown",
      "metadata": {
        "id": "YiUNM26jnbcS"
      },
      "source": [
        "## Matrix declarations"
      ]
    },
    {
      "cell_type": "code",
      "metadata": {
        "id": "B7YgFHcLnkw3"
      },
      "source": [
        "## Addition\n",
        "A = np.array([\n",
        "    [3,1,9],\n",
        "    [2,0,7],\n",
        "    [7,1,7]\n",
        "])\n",
        "B = np.array([\n",
        "    [3,2,3],\n",
        "    [0,4,0],\n",
        "    [1,1,1]\n",
        "])"
      ],
      "execution_count": null,
      "outputs": []
    },
    {
      "cell_type": "code",
      "metadata": {
        "id": "5AaB1IPUnlm1"
      },
      "source": [
        "## Subtraction\n",
        "D = np.array([\n",
        "    [4,1,1],\n",
        "    [3,5,5],\n",
        "    [0,7,0]\n",
        "])\n",
        "E = np.array([\n",
        "    [9,2,6],\n",
        "    [9,1,0],\n",
        "    [0,0,6]\n",
        "])"
      ],
      "execution_count": null,
      "outputs": []
    },
    {
      "cell_type": "code",
      "metadata": {
        "id": "GcdfDqEpnnXR"
      },
      "source": [
        "## element-wise multiplication\n",
        "F = np.array([\n",
        "    [2,2,2],\n",
        "    [4,3,4],\n",
        "    [5,7,7]\n",
        "])\n",
        "G = np.array([\n",
        "    [3,3,3],\n",
        "    [0,1,9],\n",
        "    [0,0,6]\n",
        "])"
      ],
      "execution_count": null,
      "outputs": []
    },
    {
      "cell_type": "code",
      "metadata": {
        "id": "ans9aKyBnpMb"
      },
      "source": [
        "## element-wise division\n",
        "H = np.array([\n",
        "    [10,12,21],\n",
        "    [15,9,0],\n",
        "    [20,22,11]\n",
        "])\n",
        "I = np.array([\n",
        "    [2,6,7],\n",
        "    [5,3,1],\n",
        "    [10,11,1]\n",
        "])"
      ],
      "execution_count": null,
      "outputs": []
    },
    {
      "cell_type": "markdown",
      "metadata": {
        "id": "cXk3HG_en2Pu"
      },
      "source": [
        "## Test Areas"
      ]
    },
    {
      "cell_type": "code",
      "metadata": {
        "colab": {
          "base_uri": "https://localhost:8080/"
        },
        "id": "_mbHtRP6n4hn",
        "outputId": "ed022353-2a16-48e4-c9cd-592884f550e1"
      },
      "source": [
        "## Addition\n",
        "C = A + B\n",
        "mat_operations(C)"
      ],
      "execution_count": null,
      "outputs": [
        {
          "output_type": "stream",
          "name": "stdout",
          "text": [
            "Matrix:\n",
            "[[ 4  8  1]\n",
            " [ 0  7  7]\n",
            " [ 0  0 18]]\n",
            "\n",
            "Shape:\t(3, 3)\n",
            "Rank:\t2\n",
            "\n"
          ]
        }
      ]
    },
    {
      "cell_type": "code",
      "metadata": {
        "colab": {
          "base_uri": "https://localhost:8080/"
        },
        "id": "xbCbeqVEn6dE",
        "outputId": "a499dea8-895e-4157-ee8f-ba94383088ef"
      },
      "source": [
        "np.add(A,B)"
      ],
      "execution_count": null,
      "outputs": [
        {
          "output_type": "execute_result",
          "data": {
            "text/plain": [
              "array([[ 4,  8,  1],\n",
              "       [ 0,  7,  7],\n",
              "       [ 0,  0, 18]])"
            ]
          },
          "metadata": {},
          "execution_count": 29
        }
      ]
    },
    {
      "cell_type": "code",
      "metadata": {
        "colab": {
          "base_uri": "https://localhost:8080/"
        },
        "id": "1XOZDIUwn9IZ",
        "outputId": "29ebd2ba-a39d-4666-efae-796e772b56fe"
      },
      "source": [
        "## Subtraction\n",
        "S = D - E\n",
        "mat_operations(S)"
      ],
      "execution_count": null,
      "outputs": [
        {
          "output_type": "stream",
          "name": "stdout",
          "text": [
            "Matrix:\n",
            "[[-5 -1 -5]\n",
            " [-6  4  5]\n",
            " [ 0  7 -6]]\n",
            "\n",
            "Shape:\t(3, 3)\n",
            "Rank:\t2\n",
            "\n"
          ]
        }
      ]
    },
    {
      "cell_type": "code",
      "metadata": {
        "colab": {
          "base_uri": "https://localhost:8080/"
        },
        "id": "K2pphEUzoRI5",
        "outputId": "4af07dd6-c36e-49c3-96c2-ec73f7acbdbb"
      },
      "source": [
        "np.subtract(D,E)"
      ],
      "execution_count": null,
      "outputs": [
        {
          "output_type": "execute_result",
          "data": {
            "text/plain": [
              "array([[-5, -1, -5],\n",
              "       [-6,  4,  5],\n",
              "       [ 0,  7, -6]])"
            ]
          },
          "metadata": {},
          "execution_count": 36
        }
      ]
    },
    {
      "cell_type": "code",
      "metadata": {
        "colab": {
          "base_uri": "https://localhost:8080/"
        },
        "id": "rsRUw_1KoUWq",
        "outputId": "13f197e9-1d0c-4565-dbec-bb13e78f42be"
      },
      "source": [
        "## element-wise multiplication\n",
        "M = F*G\n",
        "mat_operations(M)"
      ],
      "execution_count": null,
      "outputs": [
        {
          "output_type": "stream",
          "name": "stdout",
          "text": [
            "Matrix:\n",
            "[[ 6  6  6]\n",
            " [ 0  3 36]\n",
            " [ 0  0 42]]\n",
            "\n",
            "Shape:\t(3, 3)\n",
            "Rank:\t2\n",
            "\n"
          ]
        }
      ]
    },
    {
      "cell_type": "code",
      "metadata": {
        "colab": {
          "base_uri": "https://localhost:8080/"
        },
        "id": "zL1UsPacoYpZ",
        "outputId": "a0eb66e2-b28c-4a72-e80c-127e575ffaa5"
      },
      "source": [
        "np.multiply(G,F)"
      ],
      "execution_count": null,
      "outputs": [
        {
          "output_type": "execute_result",
          "data": {
            "text/plain": [
              "array([[ 6,  6,  6],\n",
              "       [ 0,  3, 36],\n",
              "       [ 0,  0, 42]])"
            ]
          },
          "metadata": {},
          "execution_count": 45
        }
      ]
    },
    {
      "cell_type": "code",
      "metadata": {
        "colab": {
          "base_uri": "https://localhost:8080/"
        },
        "id": "GtNS-wJyogeG",
        "outputId": "d702acff-f1fa-4188-a0c3-52f25e19077b"
      },
      "source": [
        "3*F"
      ],
      "execution_count": null,
      "outputs": [
        {
          "output_type": "execute_result",
          "data": {
            "text/plain": [
              "array([[ 6,  6,  6],\n",
              "       [12,  9, 12],\n",
              "       [15, 21, 21]])"
            ]
          },
          "metadata": {},
          "execution_count": 44
        }
      ]
    },
    {
      "cell_type": "code",
      "metadata": {
        "colab": {
          "base_uri": "https://localhost:8080/"
        },
        "id": "_W7H_NiHom6e",
        "outputId": "06cce10b-986f-4059-e173-30f8d22a6f32"
      },
      "source": [
        "6*G"
      ],
      "execution_count": null,
      "outputs": [
        {
          "output_type": "execute_result",
          "data": {
            "text/plain": [
              "array([[18, 18, 18],\n",
              "       [ 0,  6, 54],\n",
              "       [ 0,  0, 36]])"
            ]
          },
          "metadata": {},
          "execution_count": 46
        }
      ]
    },
    {
      "cell_type": "code",
      "metadata": {
        "colab": {
          "base_uri": "https://localhost:8080/"
        },
        "id": "DYI2DZ5jopV1",
        "outputId": "f36ef8fe-a2d7-4cfe-da52-f38b69cd0002"
      },
      "source": [
        "## element-wise division\n",
        "V = H/I\n",
        "mat_operations(V)"
      ],
      "execution_count": null,
      "outputs": [
        {
          "output_type": "stream",
          "name": "stdout",
          "text": [
            "Matrix:\n",
            "[[ 5.  2.  3.]\n",
            " [ 3.  3.  0.]\n",
            " [ 2.  2. 11.]]\n",
            "\n",
            "Shape:\t(3, 3)\n",
            "Rank:\t2\n",
            "\n"
          ]
        }
      ]
    },
    {
      "cell_type": "code",
      "metadata": {
        "colab": {
          "base_uri": "https://localhost:8080/"
        },
        "id": "jQxaNeZ6or_s",
        "outputId": "30d54dd3-1d08-499e-90cb-e35f4b05a5b0"
      },
      "source": [
        "np.divide(H,I)"
      ],
      "execution_count": null,
      "outputs": [
        {
          "output_type": "execute_result",
          "data": {
            "text/plain": [
              "array([[ 5.,  2.,  3.],\n",
              "       [ 3.,  3.,  0.],\n",
              "       [ 2.,  2., 11.]])"
            ]
          },
          "metadata": {},
          "execution_count": 48
        }
      ]
    },
    {
      "cell_type": "code",
      "metadata": {
        "colab": {
          "base_uri": "https://localhost:8080/"
        },
        "id": "RGprv9QdouL6",
        "outputId": "8264e475-4048-4436-a2ea-c6e6d2541024"
      },
      "source": [
        "H/7"
      ],
      "execution_count": null,
      "outputs": [
        {
          "output_type": "execute_result",
          "data": {
            "text/plain": [
              "array([[1.42857143, 1.71428571, 3.        ],\n",
              "       [2.14285714, 1.28571429, 0.        ],\n",
              "       [2.85714286, 3.14285714, 1.57142857]])"
            ]
          },
          "metadata": {},
          "execution_count": 50
        }
      ]
    },
    {
      "cell_type": "code",
      "metadata": {
        "colab": {
          "base_uri": "https://localhost:8080/"
        },
        "id": "wrdR7gdwoxA6",
        "outputId": "8c9a7079-6536-4f6b-a4df-5602153cead4"
      },
      "source": [
        "8/I"
      ],
      "execution_count": null,
      "outputs": [
        {
          "output_type": "execute_result",
          "data": {
            "text/plain": [
              "array([[4.        , 1.33333333, 1.14285714],\n",
              "       [1.6       , 2.66666667, 8.        ],\n",
              "       [0.8       , 0.72727273, 8.        ]])"
            ]
          },
          "metadata": {},
          "execution_count": 51
        }
      ]
    },
    {
      "cell_type": "markdown",
      "metadata": {
        "id": "tLcpNmlUo6-D"
      },
      "source": [
        "# Conclusion"
      ]
    },
    {
      "cell_type": "markdown",
      "metadata": {
        "id": "ivm1mt4wpENi"
      },
      "source": [
        "As a result, I conclude that we can manipulate and use matrices and their various categories and elements in python and programming to obtain various types of elemental values and linear combinations, which we can then use to compute various matrix algebraic solutions such as addition and even element wise multiplication. Matrix operations can aid in a variety of ways with today's technology and innovation. One of the applications of fpr matrices is to model and optimize wireless transmissions. Extraction and processing of information encoded in signals matrices are utilized for detection. Matrices are important in signal estimation and analysis."
      ]
    },
    {
      "cell_type": "markdown",
      "metadata": {
        "id": "IakdY_A2pGE4"
      },
      "source": [
        "### Reference\n",
        "[1] Introduction to Matrices https://courses.lumenlearning.com/boundless-algebra/chapter/introduction-to-matrices/\n"
      ]
    }
  ]
}